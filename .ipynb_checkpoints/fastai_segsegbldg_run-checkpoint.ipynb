{
 "cells": [
  {
   "cell_type": "code",
   "execution_count": 2,
   "metadata": {},
   "outputs": [
    {
     "name": "stdout",
     "output_type": "stream",
     "text": [
      "Collecting rasterio\n",
      "\u001b[?25l  Downloading https://files.pythonhosted.org/packages/02/7e/eed7dfd109fc89ed3cf8b5ed3f26f841b03b92f6ca1c31c4745f938a081b/rasterio-1.1.5-cp36-cp36m-manylinux1_x86_64.whl (18.2MB)\n",
      "\u001b[K     |████████████████████████████████| 18.2MB 168kB/s ta 0:00:01   |████████████████████████▏       | 13.8MB 24kB/s eta 0:02:58\n",
      "\u001b[?25hRequirement already satisfied: numpy in /usr/local/lib/python3.6/dist-packages (from rasterio) (1.18.5)\n",
      "Collecting affine\n",
      "  Downloading https://files.pythonhosted.org/packages/ac/a6/1a39a1ede71210e3ddaf623982b06ecfc5c5c03741ae659073159184cd3e/affine-2.3.0-py2.py3-none-any.whl\n",
      "Collecting cligj>=0.5\n",
      "  Downloading https://files.pythonhosted.org/packages/e4/be/30a58b4b0733850280d01f8bd132591b4668ed5c7046761098d665ac2174/cligj-0.5.0-py3-none-any.whl\n",
      "Requirement already satisfied: attrs in /usr/local/lib/python3.6/dist-packages (from rasterio) (19.3.0)\n",
      "Collecting snuggs>=1.4.1\n",
      "  Downloading https://files.pythonhosted.org/packages/cc/0e/d27d6e806d6c0d1a2cfdc5d1f088e42339a0a54a09c3343f7f81ec8947ea/snuggs-1.4.7-py3-none-any.whl\n",
      "Collecting click-plugins\n",
      "  Downloading https://files.pythonhosted.org/packages/e9/da/824b92d9942f4e472702488857914bdd50f73021efea15b4cad9aca8ecef/click_plugins-1.1.1-py2.py3-none-any.whl\n",
      "Requirement already satisfied: click<8,>=4.0 in /usr/local/lib/python3.6/dist-packages (from rasterio) (7.1.2)\n",
      "Requirement already satisfied: pyparsing>=2.1.6 in /usr/local/lib/python3.6/dist-packages (from snuggs>=1.4.1->rasterio) (2.4.7)\n",
      "Installing collected packages: affine, cligj, snuggs, click-plugins, rasterio\n",
      "Successfully installed affine-2.3.0 click-plugins-1.1.1 cligj-0.5.0 rasterio-1.1.5 snuggs-1.4.7\n"
     ]
    }
   ],
   "source": [
    "!pip3 install rasterio"
   ]
  },
  {
   "cell_type": "code",
   "execution_count": 3,
   "metadata": {},
   "outputs": [],
   "source": [
    "import numpy as np\n",
    "import os\n",
    "\n",
    "import rasterio\n",
    "from rasterio import Affine\n",
    "from rasterio.windows import Window\n",
    "from rasterio.transform import from_bounds\n",
    "\n",
    "from pathlib import Path\n",
    "\n",
    "import matplotlib.pyplot as plt\n",
    "%matplotlib inline\n",
    "\n",
    "from tqdm import tqdm\n",
    "\n",
    "from skimage.transform import rescale, resize"
   ]
  },
  {
   "cell_type": "code",
   "execution_count": 4,
   "metadata": {},
   "outputs": [],
   "source": [
    "def get_windows(rst_h, rst_w, max_h, max_w, col_off = 0, row_off = 0):\n",
    "    wins = []\n",
    "    rows = rst_h // max_h + 1\n",
    "    cols = rst_w // max_w + 1    \n",
    "    \n",
    "    for r in range(rows):\n",
    "        if r == rows-1: height = rst_h % max_h\n",
    "        else: height = max_h\n",
    "            \n",
    "        for c in range(cols):\n",
    "            if c == cols-1: width = rst_w % max_w\n",
    "            else: width = max_w\n",
    "\n",
    "            if width != 0 and height != 0: \n",
    "                wins.append(((r,c),Window(c*max_w+col_off, r*max_h+row_off, width, height)))\n",
    "    return wins\n",
    "\n",
    "def get_tfm(window, rst_full):\n",
    "    c_o, r_o, w, h = window.flatten()\n",
    "    left, top, right, bottom = *rst_full.xy(r_o, c_o, offset='ul'), *rst_full.xy(r_o+h, c_o+w, offset='lr')\n",
    "    tfm = from_bounds(left,bottom,right,top, w, h)\n",
    "    return tfm\n",
    "\n",
    "def save_subwin(arr, crs, tfm, save_fn):\n",
    "    im = (arr*255).astype('uint8')\n",
    "    with rasterio.open(OUTPUT/f'{save_fn}.tif', 'w', driver='GTiff', \n",
    "                            height=im.shape[0], width=im.shape[1],\n",
    "                            count=3, dtype=im.dtype, crs=crs, transform=tfm, compress='JPEG', tiled=True) as dst:\n",
    "        for k, a in [(1, im), (2, im), (3, im)]:\n",
    "            dst.write(a, indexes=k)\n",
    "            \n",
    "def pad_window(window, pad):\n",
    "    col_off, row_off, width, height = window.flatten()\n",
    "    return Window(col_off-pad//2, row_off-pad//2,width+pad,height+pad)"
   ]
  },
  {
   "cell_type": "code",
   "execution_count": 10,
   "metadata": {},
   "outputs": [],
   "source": [
    "COGURL = Path('/content/drive/My Drive/beijing_aerial/2008.tif')\n",
    "OUTPUT = Path('/content/drive/My Drive/beijing_aerial/segout/2008')\n",
    "os.makedirs(OUTPUT, exist_ok=True)"
   ]
  },
  {
   "cell_type": "code",
   "execution_count": 6,
   "metadata": {},
   "outputs": [],
   "source": [
    "import os"
   ]
  },
  {
   "cell_type": "code",
   "execution_count": null,
   "metadata": {},
   "outputs": [],
   "source": []
  }
 ],
 "metadata": {
  "kernelspec": {
   "display_name": "Python 3",
   "language": "python",
   "name": "python3"
  },
  "language_info": {
   "codemirror_mode": {
    "name": "ipython",
    "version": 3
   },
   "file_extension": ".py",
   "mimetype": "text/x-python",
   "name": "python",
   "nbconvert_exporter": "python",
   "pygments_lexer": "ipython3",
   "version": "3.6.9"
  }
 },
 "nbformat": 4,
 "nbformat_minor": 4
}
