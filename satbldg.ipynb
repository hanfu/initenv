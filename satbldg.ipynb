{
 "cells": [
  {
   "cell_type": "code",
   "execution_count": 1,
   "metadata": {},
   "outputs": [],
   "source": [
    "from pathlib import Path\n",
    "import os\n",
    "Path.ls = lambda x: list(x.iterdir())\n",
    "\n",
    "\n",
    "wkdir = Path('/content/satbldg')\n",
    "tifsdir = wkdir / 'data/processedBuildingLabels/3band'\n",
    "geojsdir= wkdir / 'data/processedBuildingLabels/vectordata/geojson'\n",
    "masksdir= wkdir / 'data/buildingMaskImages'"
   ]
  },
  {
   "cell_type": "code",
   "execution_count": 5,
   "metadata": {},
   "outputs": [
    {
     "name": "stdout",
     "output_type": "stream",
     "text": [
      "[PosixPath('/content/satbldg/data/processedBuildingLabels/3band/3band_AOI_1_RIO_img4336.tif'), PosixPath('/content/satbldg/data/processedBuildingLabels/3band/3band_AOI_1_RIO_img5323.tif'), PosixPath('/content/satbldg/data/processedBuildingLabels/3band/3band_AOI_1_RIO_img2278.tif'), PosixPath('/content/satbldg/data/processedBuildingLabels/3band/3band_AOI_1_RIO_img51.tif'), PosixPath('/content/satbldg/data/processedBuildingLabels/3band/3band_AOI_1_RIO_img5749.tif')]\n"
     ]
    },
    {
     "data": {
      "text/plain": [
       "[PosixPath('/content/satbldg/data/processedBuildingLabels/vectordata/geojson/Geo_AOI_1_RIO_img6434.geojson'),\n",
       " PosixPath('/content/satbldg/data/processedBuildingLabels/vectordata/geojson/Geo_AOI_1_RIO_img3790.geojson'),\n",
       " PosixPath('/content/satbldg/data/processedBuildingLabels/vectordata/geojson/Geo_AOI_1_RIO_img2246.geojson'),\n",
       " PosixPath('/content/satbldg/data/processedBuildingLabels/vectordata/geojson/Geo_AOI_1_RIO_img5156.geojson'),\n",
       " PosixPath('/content/satbldg/data/processedBuildingLabels/vectordata/geojson/Geo_AOI_1_RIO_img2845.geojson')]"
      ]
     },
     "execution_count": 5,
     "metadata": {},
     "output_type": "execute_result"
    }
   ],
   "source": [
    "print(tifsdir.ls()[:5])\n",
    "geojsdir.ls()[:5]"
   ]
  },
  {
   "cell_type": "code",
   "execution_count": null,
   "metadata": {},
   "outputs": [],
   "source": []
  },
  {
   "cell_type": "code",
   "execution_count": null,
   "metadata": {},
   "outputs": [],
   "source": [
    "!ls"
   ]
  }
 ],
 "metadata": {
  "kernelspec": {
   "display_name": "Python 3",
   "language": "python",
   "name": "python3"
  },
  "language_info": {
   "codemirror_mode": {
    "name": "ipython",
    "version": 3
   },
   "file_extension": ".py",
   "mimetype": "text/x-python",
   "name": "python",
   "nbconvert_exporter": "python",
   "pygments_lexer": "ipython3",
   "version": "3.6.9"
  }
 },
 "nbformat": 4,
 "nbformat_minor": 4
}
